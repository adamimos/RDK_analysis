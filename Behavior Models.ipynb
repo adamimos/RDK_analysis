{
 "cells": [
  {
   "cell_type": "code",
   "execution_count": 1,
   "metadata": {
    "collapsed": false
   },
   "outputs": [],
   "source": [
    "import pymc3 as pm\n",
    "import numpy as np\n",
    "import scipy.io as sio\n",
    "import glob\n",
    "from sklearn import linear_model\n",
    "import pandas as pd\n",
    "import matplotlib.pyplot as plt\n",
    "import math\n",
    "from itertools import cycle\n",
    "\n",
    "from matplotlib import rc\n",
    "rc(\"font\", family=\"serif\", size=14)\n",
    "rc(\"text\", usetex=True)\n",
    "\n",
    "\n",
    "%matplotlib inline\n",
    "\n",
    "color_cycle = cycle(['g', 'b', 'c', 'm', 'y', 'k'])"
   ]
  },
  {
   "cell_type": "markdown",
   "metadata": {},
   "source": [
    "# The omnipotent rat\n",
    "\n",
    "This model assumes that the rat:\n",
    "* can discern with 100% accuracy the direction of the coherent motion no matter what the noise\n",
    "\n",
    "In this case, there is no need for the rat to supplement any prior information into the stimulus, since the rat is able to discern the coherent direction with 100% accuracy. Thus we have:\n",
    "\n",
    "$$ p(R) = 1 $$ \n",
    "\n",
    "for $c>0$ and $$p(R) = 0$$ for $c<0$."
   ]
  },
  {
   "cell_type": "code",
   "execution_count": 18,
   "metadata": {
    "collapsed": false
   },
   "outputs": [],
   "source": [
    "def load_RDK_data_from_mat_to_pandas(filename):\n",
    "    mat = sio.loadmat(filename)\n",
    "    mat = mat['temp_obj'][0]\n",
    "    field_names = mat.dtype.names\n",
    "    data = mat[0]\n",
    "    data_dict = dict(zip(field_names,data))\n",
    "    for key in data_dict:\n",
    "        data_dict[key] = data_dict[key].squeeze()\n",
    "\n",
    "    return data_dict"
   ]
  },
  {
   "cell_type": "code",
   "execution_count": 19,
   "metadata": {
    "collapsed": false
   },
   "outputs": [
    {
     "name": "stderr",
     "output_type": "stream",
     "text": [
      "/home/adam/anaconda2/envs/python3/lib/python3.5/site-packages/ipykernel/__main__.py:25: FutureWarning: reshape is deprecated and will raise in a subsequent release. Please use .values.reshape(...) instead\n"
     ]
    },
    {
     "data": {
      "image/png": "[encoded data removed]",
      "text/plain": [
       "<matplotlib.figure.Figure at 0x7f6260ab3198>"
      ]
     },
     "metadata": {},
     "output_type": "display_data"
    }
   ],
   "source": [
    "rat_name = 'miley0'\n",
    "data = load_RDK_data_from_mat_to_pandas('/home/adam/Documents/DATA/RDK/Behavior_1/Adam20170516/'+rat_name+'_session1.spd')\n",
    "data = pd.DataFrame.from_dict(data)\n",
    "data.index.name = 'trial'\n",
    "\n",
    "# this makes psychophysical curves\n",
    "\n",
    "plt.figure()\n",
    "plt.title('psychophysical curves')\n",
    "plt.xlabel('coherence')\n",
    "plt.ylabel('probability of poke right')\n",
    "for p in data.prior_right.unique():\n",
    "    cc = next(color_cycle)\n",
    "    \n",
    "    data_p = data.loc[lambda x: x.prior_right == p] # pick out data for the given prior\n",
    "    coherence_means = data_p.groupby(['coherence'],as_index=False).response_right.mean()\n",
    "    \n",
    "    # std of estimation for a binary variable is sqrt(p(1-p)/n)\n",
    "    yerrors = np.ravel(coherence_means.apply(lambda x: x*(1-x)).response_right)\n",
    "    yerrors = yerrors/np.ravel(data_p['coherence'].value_counts())\n",
    "    plt.errorbar(coherence_means.coherence,coherence_means.response_right,yerr = yerrors,fmt='o',color=cc)\n",
    "    \n",
    "    # logistic regression to fit psychophysical curve\n",
    "    log_model = linear_model.LogisticRegression(C=1e20,max_iter=100,penalty='l2')\n",
    "    log_model.fit(X = data_p.coherence.reshape(data_p.coherence.count(),1), y = np.ravel(data_p.response_right))\n",
    "    \n",
    "    # plot values psych curves\n",
    "    x_val = np.linspace(-1,1,200).reshape(200,1)\n",
    "    plt.plot(x_val,log_model.predict_proba(x_val)[:,1],color=cc)"
   ]
  },
  {
   "cell_type": "code",
   "execution_count": null,
   "metadata": {
    "collapsed": true
   },
   "outputs": [],
   "source": [
    "# this runs mcmc on the data\n",
    "\n",
    "response_data = np.ravel(data.response_right)\n",
    "coherences = np.ravel(data.coherence)\n",
    "unique_coherences = np.unique(coherences);\n",
    "\n",
    "\n",
    "\n",
    "\n",
    "@as_op(itypes=[tt.lscalar], otypes=[tt.lscalar])\n",
    "def coin_prob(coherence_val):\n",
    "    \n",
    "\n",
    "\n",
    "\n",
    "\n",
    "\n",
    "\n",
    "\n",
    "with pm.Model() as model:\n",
    "    slope_ = pm.Uniform('a',-10,10)\n",
    "    intercept_ = pm.Uniform('b',-1,1)\n",
    "\n",
    "with model:\n",
    "    coin_prob\n",
    "    \n",
    "with model:\n",
    "    observation = pm.Bernoulli(\"obs\",coin_probs_over_time,value = response_data,observed=True)\n",
    "\n",
    "\n",
    "\n",
    "\n",
    "\n",
    "\n",
    "slope_ = pm.Uniform('a',-10,10)\n",
    "intercept_ = pm.Uniform('b',-1,1)\n",
    "print slope_.random()\n",
    "\n",
    "@pm.deterministic\n",
    "def coin_probs_over_time(s_ = slope_, i_ = intercept_, uc = unique_coherences,c = coherences):\n",
    "    out = np.zeros(len(c))\n",
    "    for k in range(uc.size):       \n",
    "        out[np.where(c==uc[k])]=1/( 1+math.exp(-4*s_*(uc[k]- i_)) )\n",
    "    return out\n",
    "\n",
    "observation = pm.Bernoulli(\"obs\",coin_probs_over_time,value=response_data,observed=True)\n",
    "\n",
    "\n",
    "\n",
    "M = pm.Model([slope_,intercept_, coin_probs_over_time,observation])\n",
    "mcmc = pm.MCMC(M)\n",
    "mcmc.sample(40000,10000)\n",
    "    \n",
    "    "
   ]
  }
 ],
 "metadata": {
  "kernelspec": {
   "display_name": "Python 3",
   "language": "python",
   "name": "python3"
  },
  "language_info": {
   "codemirror_mode": {
    "name": "ipython",
    "version": 3
   },
   "file_extension": ".py",
   "mimetype": "text/x-python",
   "name": "python",
   "nbconvert_exporter": "python",
   "pygments_lexer": "ipython3",
   "version": "3.5.1"
  }
 },
 "nbformat": 4,
 "nbformat_minor": 0
}
