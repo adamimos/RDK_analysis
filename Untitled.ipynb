{
 "cells": [
  {
   "cell_type": "code",
   "execution_count": 2,
   "metadata": {
    "collapsed": true
   },
   "outputs": [],
   "source": [
    "import pymc as pm\n",
    "import numpy as np\n",
    "import scipy.io as sio\n",
    "import glob\n",
    "from sklearn import linear_model\n",
    "import pandas as pd\n",
    "import matplotlib.pyplot as plt\n",
    "import math\n",
    "from itertools import cycle\n",
    "\n",
    "\n",
    "%matplotlib inline\n",
    "\n",
    "color_cycle = cycle(['g', 'b', 'c', 'm', 'y', 'k'])"
   ]
  },
  {
   "cell_type": "code",
   "execution_count": 3,
   "metadata": {
    "collapsed": true
   },
   "outputs": [],
   "source": [
    "def load_RDK_data_from_mat_to_pandas(filename):\n",
    "    mat = sio.loadmat(filename)\n",
    "    mat = mat['temp_obj'][0]\n",
    "    field_names = mat.dtype.names\n",
    "    data = mat[0]\n",
    "    data_dict = dict(zip(field_names,data))\n",
    "    for key in data_dict:\n",
    "        data_dict[key] = data_dict[key].squeeze()\n",
    "\n",
    "    return data_dict"
   ]
  },
  {
   "cell_type": "code",
   "execution_count": 5,
   "metadata": {
    "collapsed": true
   },
   "outputs": [],
   "source": [
    "def make_psych_curve_mcmc(data):\n",
    "    \n",
    "    # this runs mcmc on the data\n",
    "\n",
    "    response_data = np.ravel(data.response_right)\n",
    "    coherences = np.ravel(data.coherence)\n",
    "    unique_coherences = np.unique(coherences);\n",
    "\n",
    "\n",
    "    slope_ = pm.Uniform('a',-10,10,value=1)\n",
    "    intercept_ = pm.Uniform('b',-1,1,value=0)\n",
    "    offset1_ = pm.Uniform('c',0,1,value=0.85)\n",
    "\n",
    "    @pm.deterministic\n",
    "    def coin_probs_over_time(s_ = slope_, i_ = intercept_, uc = unique_coherences,c = coherences,o1 = offset1_,o2 = offset2_):\n",
    "        out = np.zeros(len(c))\n",
    "        for k in range(uc.size):       \n",
    "            out[np.where(c==uc[k])]=o1*(1/( 1+math.exp(-4*s_*(uc[k]- i_)) )-0.5)+0.5\n",
    "        return out\n",
    "\n",
    "    observation = pm.Bernoulli(\"obs\",coin_probs_over_time,value=response_data,observed=True)\n",
    "\n",
    "\n",
    "\n",
    "    M = pm.Model([slope_,intercept_, coin_probs_over_time,observation,offset1_])\n",
    "    mcmc = pm.MCMC(M)\n",
    "    mcmc.sample(10000,5000,2)\n",
    "    \n",
    "    intercept_samples = mcmc.trace('b')[:]\n",
    "    slope_samples = mcmc.trace('a')[:]\n",
    "    o1_samples = mcmc.trace('c')[:]\n",
    "    \n",
    "    e_i = sum(intercept_samples)/len(intercept_samples)\n",
    "    e_s = sum(slope_samples)/len(slope_samples)\n",
    "    e_o1 = sum(o1_samples)/len(o1_samples)\n",
    "    \n",
    "    \n",
    "    x_vals = np.linspace(-1,1,200).reshape(200,1)\n",
    "    #psych_f = lambda o1, s_, c, i_ : o1*(1/( 1+math.exp(-4*s_*(c- i_)) )-0.5)+0.5\n",
    "    #y_vals = psych_f(expected_o1,expected_s,x_vals,expected_i)\n",
    "    y_vals = e_o1*(1/( 1+np.exp(-4*e_s*(x_vals- e_i)) )-0.5)+0.5\n",
    "    return x_vals,y_vals,e_i\n",
    "    \n",
    "    "
   ]
  },
  {
   "cell_type": "code",
   "execution_count": 6,
   "metadata": {
    "collapsed": false
   },
   "outputs": [
    {
     "name": "stdout",
     "output_type": "stream",
     "text": [
      "586\n",
      "300\n"
     ]
    },
    {
     "ename": "NameError",
     "evalue": "global name 'offset2_' is not defined",
     "output_type": "error",
     "traceback": [
      "\u001b[1;31m---------------------------------------------------------------------------\u001b[0m",
      "\u001b[1;31mNameError\u001b[0m                                 Traceback (most recent call last)",
      "\u001b[1;32m<ipython-input-6-278c983b0bef>\u001b[0m in \u001b[0;36m<module>\u001b[1;34m()\u001b[0m\n\u001b[0;32m     28\u001b[0m     \u001b[1;31m#log_model = linear_model.LogisticRegression(C=1e20,max_iter=100,penalty='l2')\u001b[0m\u001b[1;33m\u001b[0m\u001b[1;33m\u001b[0m\u001b[0m\n\u001b[0;32m     29\u001b[0m     \u001b[1;31m#log_model.fit(X = data_p.coherence.reshape(data_p.coherence.count(),1), y = np.ravel(data_p.response_right))\u001b[0m\u001b[1;33m\u001b[0m\u001b[1;33m\u001b[0m\u001b[0m\n\u001b[1;32m---> 30\u001b[1;33m     \u001b[0mx_val\u001b[0m\u001b[1;33m,\u001b[0m\u001b[0my_val\u001b[0m\u001b[1;33m,\u001b[0m\u001b[0mthresh\u001b[0m \u001b[1;33m=\u001b[0m \u001b[0mmake_psych_curve_mcmc\u001b[0m\u001b[1;33m(\u001b[0m\u001b[0mdata_p\u001b[0m\u001b[1;33m)\u001b[0m\u001b[1;33m\u001b[0m\u001b[0m\n\u001b[0m\u001b[0;32m     31\u001b[0m     \u001b[1;32mprint\u001b[0m \u001b[0mx_val\u001b[0m\u001b[1;33m.\u001b[0m\u001b[0mshape\u001b[0m\u001b[1;33m\u001b[0m\u001b[0m\n\u001b[0;32m     32\u001b[0m     \u001b[1;32mprint\u001b[0m \u001b[0my_val\u001b[0m\u001b[1;33m.\u001b[0m\u001b[0mshape\u001b[0m\u001b[1;33m\u001b[0m\u001b[0m\n",
      "\u001b[1;32m<ipython-input-5-adec6400b6c3>\u001b[0m in \u001b[0;36mmake_psych_curve_mcmc\u001b[1;34m(data)\u001b[0m\n\u001b[0;32m     13\u001b[0m \u001b[1;33m\u001b[0m\u001b[0m\n\u001b[0;32m     14\u001b[0m     \u001b[1;33m@\u001b[0m\u001b[0mpm\u001b[0m\u001b[1;33m.\u001b[0m\u001b[0mdeterministic\u001b[0m\u001b[1;33m\u001b[0m\u001b[0m\n\u001b[1;32m---> 15\u001b[1;33m     \u001b[1;32mdef\u001b[0m \u001b[0mcoin_probs_over_time\u001b[0m\u001b[1;33m(\u001b[0m\u001b[0ms_\u001b[0m \u001b[1;33m=\u001b[0m \u001b[0mslope_\u001b[0m\u001b[1;33m,\u001b[0m \u001b[0mi_\u001b[0m \u001b[1;33m=\u001b[0m \u001b[0mintercept_\u001b[0m\u001b[1;33m,\u001b[0m \u001b[0muc\u001b[0m \u001b[1;33m=\u001b[0m \u001b[0munique_coherences\u001b[0m\u001b[1;33m,\u001b[0m\u001b[0mc\u001b[0m \u001b[1;33m=\u001b[0m \u001b[0mcoherences\u001b[0m\u001b[1;33m,\u001b[0m\u001b[0mo1\u001b[0m \u001b[1;33m=\u001b[0m \u001b[0moffset1_\u001b[0m\u001b[1;33m,\u001b[0m\u001b[0mo2\u001b[0m \u001b[1;33m=\u001b[0m \u001b[0moffset2_\u001b[0m\u001b[1;33m)\u001b[0m\u001b[1;33m:\u001b[0m\u001b[1;33m\u001b[0m\u001b[0m\n\u001b[0m\u001b[0;32m     16\u001b[0m         \u001b[0mout\u001b[0m \u001b[1;33m=\u001b[0m \u001b[0mnp\u001b[0m\u001b[1;33m.\u001b[0m\u001b[0mzeros\u001b[0m\u001b[1;33m(\u001b[0m\u001b[0mlen\u001b[0m\u001b[1;33m(\u001b[0m\u001b[0mc\u001b[0m\u001b[1;33m)\u001b[0m\u001b[1;33m)\u001b[0m\u001b[1;33m\u001b[0m\u001b[0m\n\u001b[0;32m     17\u001b[0m         \u001b[1;32mfor\u001b[0m \u001b[0mk\u001b[0m \u001b[1;32min\u001b[0m \u001b[0mrange\u001b[0m\u001b[1;33m(\u001b[0m\u001b[0muc\u001b[0m\u001b[1;33m.\u001b[0m\u001b[0msize\u001b[0m\u001b[1;33m)\u001b[0m\u001b[1;33m:\u001b[0m\u001b[1;33m\u001b[0m\u001b[0m\n",
      "\u001b[1;31mNameError\u001b[0m: global name 'offset2_' is not defined"
     ]
    },
    {
     "data": {
      "image/png": "[encoded data removed]",
      "text/plain": [
       "<matplotlib.figure.Figure at 0x7fbd96d3ec50>"
      ]
     },
     "metadata": {},
     "output_type": "display_data"
    }
   ],
   "source": [
    "rat_name = 'robin0'#'robin0'\n",
    "folder = '20170823'\n",
    "file1 = glob.glob('/home/adam/Documents/DATA/RDK/Behavior_1/Box*/' + folder + '/'+rat_name+'_session1.spd')\n",
    "data = load_RDK_data_from_mat_to_pandas(file1[0])\n",
    "data = pd.DataFrame.from_dict(data)\n",
    "data.index.name = 'trial'\n",
    "print len(data)\n",
    "# this makes psychophysical curves\n",
    "data = data[150:450]\n",
    "print len(data)\n",
    "data = data.reset_index()\n",
    "plt.figure()\n",
    "plt.title('psychophysical curves')\n",
    "plt.xlabel('coherence')\n",
    "plt.ylabel('probability of poke right')\n",
    "for p in data.prior_right.unique():\n",
    "    cc = color_cycle.next()\n",
    "    \n",
    "    data_p = data.loc[lambda x: x.prior_right == p] # pick out data for the given prior\n",
    "    coherence_means = data_p.groupby(['coherence'],as_index=False).response_right.mean()\n",
    "    \n",
    "    # std of estimation for a binary variable is sqrt(p(1-p)/n)\n",
    "    yerrors = np.ravel(coherence_means.apply(lambda x: x*(1-x)).response_right)\n",
    "    yerrors = yerrors/np.ravel(data_p['coherence'].value_counts())\n",
    "    plt.errorbar(coherence_means.coherence,coherence_means.response_right,yerr = yerrors,fmt='.',color=cc)\n",
    "    \n",
    "    # logistic regression to fit psychophysical curve\n",
    "    #log_model = linear_model.LogisticRegression(C=1e20,max_iter=100,penalty='l2')\n",
    "    #log_model.fit(X = data_p.coherence.reshape(data_p.coherence.count(),1), y = np.ravel(data_p.response_right))\n",
    "    x_val,y_val,thresh = make_psych_curve_mcmc(data_p)\n",
    "    print x_val.shape\n",
    "    print y_val.shape\n",
    "    print thresh\n",
    "    \n",
    "    \n",
    "    # plot values psych curves\n",
    "   \n",
    "    plt.plot(x_val,y_val,color=cc,label ='prior = '+str(p) )\n",
    "    plt.plot((thresh, thresh), (0, 1), '--',color = cc)\n",
    "    plt.title('Psychophysical Curve '+rat_name+' '+folder)\n",
    "    \n",
    "plt.legend(loc='upper left')\n",
    "plt.savefig('robin0_psych1.pdf')"
   ]
  },
  {
   "cell_type": "code",
   "execution_count": null,
   "metadata": {
    "collapsed": true
   },
   "outputs": [],
   "source": [
    "# this runs mcmc on the data with a shift in activity\n",
    "\n",
    "response_data = np.ravel(data.response_right)\n",
    "coherences = np.ravel(data.coherence)\n",
    "unique_coherences = np.unique(coherences);\n",
    "\n",
    "num_tau = 1\n",
    "\n",
    "tau_tup = ()\n",
    "\n",
    "ll, uu = 0, len(response_data)-num_tau\n",
    "ll,uu = 60,len(response_data)-num_tau-60\n",
    "\n",
    "for k in range(num_tau):\n",
    "    tau_tup= tau_tup + (pm.DiscreteUniform('tau'+str(k),lower=ll,upper=uu,value=150),)\n",
    "    #tau_tup= tau_tup + (pm.Binomial('tau'+str(k),300,0.65,value=200),)\n",
    "    ll,uu = tau_tup[k],uu+1\n",
    "tau_tup  = tau_tup + (len(response_data),)\n",
    "tau_tup = tau_tup + (10,)\n",
    "\n",
    "\n",
    "\n",
    "slope_tup = ()\n",
    "threshold_tup = ()\n",
    "amp_tup = ()\n",
    "for k in range(num_tau+1):\n",
    "    slope_tup = slope_tup + (pm.Uniform('slope'+str(k),-10,10),)\n",
    "    threshold_tup = threshold_tup + (pm.Uniform('threshold'+str(k),-1,1,value = 0),)\n",
    "    amp_tup = amp_tup + (pm.Uniform('amp'+str(k),0.1,value=0.85),)\n",
    "\n",
    "\n",
    "@pm.deterministic\n",
    "def coin_probs_over_time(o1_=amp_tup, s_ = slope_tup, thresh_=threshold_tup,tau_ = tau_tup, uc = unique_coherences,c = coherences):\n",
    "    out = np.zeros(len(c))\n",
    "    \n",
    "    for k in range(uc.size):\n",
    "        ll,uu = 0,tau_tup[0]\n",
    "        for r in range(num_tau+1):\n",
    "\n",
    "            rr = range(ll,uu)\n",
    "            these_c = np.ravel(np.where(c==uc[k]))\n",
    "            \n",
    "            these_c = list(set(these_c).intersection(set(rr)))\n",
    "            #out[these_c] = 1/( 1+math.exp(-4*s_[r]*(uc[k]- thresh_[r])) )\n",
    "            out[these_c]=o1_[r]*(1/( 1+math.exp(-4*s_[r]*(uc[k]- thresh_[r])) )-0.5)+0.5\n",
    "            \n",
    "            ll,uu=uu,tau_tup[r+1]\n",
    "            \n",
    "    return out\n",
    "\n",
    "observation = pm.Bernoulli(\"obs\",coin_probs_over_time,value=response_data,observed=True)\n",
    "\n",
    "\n",
    "\n",
    "M = pm.Model(list(tau_tup)[0:num_tau]+list(amp_tup)+list(slope_tup)+list(threshold_tup)+[coin_probs_over_time,observation])\n",
    "map_ = pm.MAP(M)\n",
    "map_.fit()\n",
    "\n",
    "\n",
    "mcmc = pm.MCMC(M)\n",
    "mcmc.sample(80000,40000,5)"
   ]
  }
 ],
 "metadata": {
  "kernelspec": {
   "display_name": "Python 2",
   "language": "python",
   "name": "python2"
  },
  "language_info": {
   "codemirror_mode": {
    "name": "ipython",
    "version": 2
   },
   "file_extension": ".py",
   "mimetype": "text/x-python",
   "name": "python",
   "nbconvert_exporter": "python",
   "pygments_lexer": "ipython2",
   "version": "2.7.13"
  }
 },
 "nbformat": 4,
 "nbformat_minor": 0
}
